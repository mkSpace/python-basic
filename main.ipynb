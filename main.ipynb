{
 "cells": [
  {
   "cell_type": "code",
   "execution_count": 3,
   "id": "c5c77685",
   "metadata": {},
   "outputs": [
    {
     "name": "stdout",
     "output_type": "stream",
     "text": [
      "******************************\n",
      "1. 사무실 관리 \n",
      "2. 영역 관리 \n",
      "3. 물품 관리 \n",
      "4. 검색 \n",
      "5. 종료 \n",
      "******************************\n",
      "> 5\n",
      "Bye!!\n"
     ]
    }
   ],
   "source": [
    "import pickle\n",
    "\n",
    "data = {\n",
    "    'offices': [],\n",
    "    'areas': [],\n",
    "    'products': []\n",
    "}\n",
    "\n",
    "\n",
    "def dumpData():\n",
    "    with open('./list.dat', 'wb') as file:\n",
    "        pickle.dump(data, file, pickle.HIGHEST_PROTOCOL)\n",
    "\n",
    "\n",
    "def loadData():\n",
    "    with open('./list.dat', 'rb') as file:\n",
    "        data = pickle.load(file)\n",
    "\n",
    "\n",
    "def printManual():\n",
    "    print(\"******************************\")\n",
    "    print(\"1. 사무실 관리 \")\n",
    "    print(\"2. 영역 관리 \")\n",
    "    print(\"3. 물품 관리 \")\n",
    "    print(\"4. 검색 \")\n",
    "    print(\"5. 종료 \")\n",
    "    print(\"******************************\")\n",
    "\n",
    "\n",
    "if __name__ == '__main__':\n",
    "    #     loadData()\n",
    "    while (True):\n",
    "        printManual()\n",
    "        mode = int(input(\"> \"))\n",
    "        if mode == 1:\n",
    "            pass\n",
    "        elif mode == 2:\n",
    "            pass\n",
    "        elif mode == 3:\n",
    "            pass\n",
    "        elif mode == 4:\n",
    "            pass\n",
    "        elif mode == 5:\n",
    "            print(\"Bye!!\")\n",
    "            break\n",
    "    dumpData()\n"
   ]
  },
  {
   "cell_type": "code",
   "execution_count": null,
   "id": "e1825461",
   "metadata": {},
   "outputs": [],
   "source": []
  }
 ],
 "metadata": {
  "kernelspec": {
   "display_name": "Python 3 (ipykernel)",
   "language": "python",
   "name": "python3"
  },
  "language_info": {
   "codemirror_mode": {
    "name": "ipython",
    "version": 3
   },
   "file_extension": ".py",
   "mimetype": "text/x-python",
   "name": "python",
   "nbconvert_exporter": "python",
   "pygments_lexer": "ipython3",
   "version": "3.9.12"
  }
 },
 "nbformat": 4,
 "nbformat_minor": 5
}
